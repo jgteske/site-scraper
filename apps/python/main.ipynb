{
 "cells": [
  {
   "cell_type": "markdown",
   "metadata": {},
   "source": [
    "# Web Scraping"
   ]
  },
  {
   "cell_type": "code",
   "execution_count": 2,
   "metadata": {},
   "outputs": [],
   "source": [
    "from bs4 import BeautifulSoup\n",
    "import requests"
   ]
  },
  {
   "cell_type": "code",
   "execution_count": 10,
   "metadata": {},
   "outputs": [],
   "source": [
    "page = requests.get(\"https://www.lithuania.travel/en/category/what-is-lithuania\")"
   ]
  },
  {
   "cell_type": "code",
   "execution_count": 11,
   "metadata": {},
   "outputs": [
    {
     "name": "stdout",
     "output_type": "stream",
     "text": [
      "<!DOCTYPE html>\n",
      "<html lang=\"en-US\">\n",
      " <head>\n",
      "  <title>\n",
      "   Just a moment...\n",
      "  </title>\n",
      "  <meta content=\"text/html; charset=utf-8\" http-equiv=\"Content-Type\"/>\n",
      "  <meta content=\"IE=Edge\" http-equiv=\"X-UA-Compatible\"/>\n",
      "  <meta content=\"noindex,nofollow\" name=\"robots\"/>\n",
      "  <meta content=\"width=device-width,initial-scale=1\" name=\"viewport\"/>\n",
      "  <style>\n",
      "   *{box-sizing:border-box;margin:0;padding:0}html{line-height:1.15;-webkit-text-size-adjust:100%;color:#313131;font-family:system-ui,-apple-system,BlinkMacSystemFont,Segoe UI,Roboto,Helvetica Neue,Arial,Noto Sans,sans-serif,Apple Color Emoji,Segoe UI Emoji,Segoe UI Symbol,Noto Color Emoji}body{display:flex;flex-direction:column;height:100vh;min-height:100vh}.main-content{margin:8rem auto;max-width:60rem;padding-left:1.5rem}@media (width <= 720px){.main-content{margin-top:4rem}}.h2{font-size:1.5rem;font-weight:500;line-height:2.25rem}@media (width <= 720px){.h2{font-size:1.25rem;line-height:1.5rem}}#challenge-error-text{background-image:url(data:image/svg+xml;base64,PHN2ZyB4bWxucz0iaHR0cDovL3d3dy53My5vcmcvMjAwMC9zdmciIHdpZHRoPSIzMiIgaGVpZ2h0PSIzMiIgZmlsbD0ibm9uZSI+PHBhdGggZmlsbD0iI0IyMEYwMyIgZD0iTTE2IDNhMTMgMTMgMCAxIDAgMTMgMTNBMTMuMDE1IDEzLjAxNSAwIDAgMCAxNiAzbTAgMjRhMTEgMTEgMCAxIDEgMTEtMTEgMTEuMDEgMTEuMDEgMCAwIDEtMTEgMTEiLz48cGF0aCBmaWxsPSIjQjIwRjAzIiBkPSJNMTcuMDM4IDE4LjYxNUgxNC44N0wxNC41NjMgOS41aDIuNzgzem0tMS4wODQgMS40MjdxLjY2IDAgMS4wNTcuMzg4LjQwNy4zODkuNDA3Ljk5NCAwIC41OTYtLjQwNy45ODQtLjM5Ny4zOS0xLjA1Ny4zODktLjY1IDAtMS4wNTYtLjM4OS0uMzk4LS4zODktLjM5OC0uOTg0IDAtLjU5Ny4zOTgtLjk4NS40MDYtLjM5NyAxLjA1Ni0uMzk3Ii8+PC9zdmc+);background-repeat:no-repeat;background-size:contain;padding-left:34px}@media (prefers-color-scheme:dark){body{background-color:#222;color:#d9d9d9}}\n",
      "  </style>\n",
      "  <meta content=\"390\" http-equiv=\"refresh\"/>\n",
      " </head>\n",
      " <body class=\"no-js\">\n",
      "  <div class=\"main-wrapper\" role=\"main\">\n",
      "   <div class=\"main-content\">\n",
      "    <noscript>\n",
      "     <div class=\"h2\">\n",
      "      <span id=\"challenge-error-text\">\n",
      "       Enable JavaScript and cookies to continue\n",
      "      </span>\n",
      "     </div>\n",
      "    </noscript>\n",
      "   </div>\n",
      "  </div>\n",
      "  <script>\n",
      "   (function(){window._cf_chl_opt={cvId: '3',cZone: \"lithuania.travel\",cType: 'managed',cRay: '8e2de70a1b54d275',cH: 'RYrRa1XPPBqrje6xuiMkRAO.fOBcWVvbMBBFDC7S100-1731659670-1.2.1.1-jgmMwq1H1r4.e.w28s88Ntx52b33IDqGH2fL_j0n4zYe.arNg556Zq7L8cSpa.XE',cUPMDTk: \"\\/en\\/category\\/what-is-lithuania?__cf_chl_tk=sicNnOYiVdhkvsJpd9j71MAQXr4PRIBfMoLmmEzgbRM-1731659670-1.0.1.1-K4VLkWX443B0l2gPSqxcbl5gKUtKh_j5q6ulyTcCfWA\",cFPWv: 'g',cITimeS: '1731659670',cTTimeMs: '1000',cMTimeMs: '390000',cTplC: 0,cTplV: 5,cTplB: 'cf',cK: \"\",fa: \"\\/en\\/category\\/what-is-lithuania?__cf_chl_f_tk=sicNnOYiVdhkvsJpd9j71MAQXr4PRIBfMoLmmEzgbRM-1731659670-1.0.1.1-K4VLkWX443B0l2gPSqxcbl5gKUtKh_j5q6ulyTcCfWA\",md: \"LRSk9U0nhwT1dOfFKTUGEtiqCdDOK5rC1qBLg1.oTu4-1731659670-1.2.1.1-oe6WO6BhHCrpp0G0imBFBFU1lFwnS.eVTwLWN.zHZeONXCb990cCjFgdID7x.Z1CGW46UnWGtYUFr_yYLKifgQvmmlO.mMQ_eLbA8PAGTZpMqUhaBFqYM07ScpOm1yre_UpxQBnPti.HMhIUWSsoVLzJN_U0uNwNbq2GKS2tYRetUqIv3wNk3._7wB3W25N92EvnJbkqfkWhWHfq17890oKFihdvlo4n3Xk3AiqnNRgouXaihwNwTfi63cq3mTAsv2DcmBtbbeEpYI2Jtx8DCFbjk0tQpM910f8KWvXj0.o4Lug94cRE.W6.ucAMHcGcPpweWbPus9BRYe0N1_TG30q_JHkllmSYDltwnkghSSlaNGXXIdGO8MJ3_bjZzesk2Znx..bVyYwgI6JxrT6rtUWzH0VDFMTjDfQi9TOyJ.hjVoot7bRsY7NjHAMc7Zys15Sjh8Ol0p4eeA_taJeSRVs45smYmSk3ppV0zE7CuhHB45qhVCI08j5tmyffOIFBleo62auSVaK5JwjxsSRFFrjYGCZtRDkjexuxrr1cRTk7s46HJWu_UY8wff0ive7ymRxJFkorDGlHkhc8ZwcffxjGHpas6O3RlgJIERqZB8JmixSNoAvFC1MSsS2bbj.G66W2Kuu3.4Gd4_ZuZKX932AuserpNmClwb6_zd29cvtII1PBnx_SpKmYdqorIHk7cYCt.VsKQnqFajxwYu48PpxmyvhbGJKdaINd0T_Y0pq9Ia4rpxSrnNLlhQhvOk6ce_TcOVlvH60Xy_KKW58POHV6.XYB8ZZKSjbVExigVIJgAOCcNpQUktE0DEQxA_8kb.Z9Bvje2XIGckWCh1oDENqG1dVwdpWZgTtz2sbQ7uRbWjsUnCGrjG306znAp2c7YiOd7lg4FSNVgJ6YLVaU778e8edEhFC1FrOOVos2ix0gd9vIPCVIogqm_PqJjhMU2.9xgIdCJICNoG8ETdRtEDR97p8sBH_2FUkVUGA04TLmZSdTCUTO4kzSrhF03.6fCHNMvISFW45fLZxCk_vi4R.egr0cOMPJ_eV5Iulre6QtGk239izEDUJIrcodGGFxdVPZ1_65BQrBDAv.cPntVTdPpj1pwFVPGZWmigLJiFZ67qjObYg75Lce52jwl57bLvuBumYO.atys_Q.pcsHNpz5AzQ4S6Zid.XnzW9DH.HUdDqAR8cAvDpiHaiCWErBTEtz1Gb9juOKKESZ11mV4.TSI2jPs0o4GY2UBIUrNYdeYAUq1QhTnTkLTuGecASXDnqgaC6z3qMuNDQkOnzO3TY7jnc92FeYIe.bkgF5YZ6FYEZ4ZyFXYnPqm6OXsXVSyVQ9gsckR9mArcGjkVFEA8yiXC92JP7Hv4f_bRSwKPpAmZcrfznqrFsHZmoTp85naQvGRRob3tO0qdl71NzMJQ8GpfEC2qtcujjKyEA90pdSew0qerx62dhMGV9E34eeoN7SG0AfZt0EX2OOkGp48HX9ifqgKoe5bNY3qQqmR95Rtm2cDu6inRdQfLQ0qOhJAT5FJlnaJ0WgXlyAFhWul7ogkkwxZn30ftt8WIrojpq.CF._1hWV6qwg_zTV1NHbxD.TyULqoMfDzVJtjka5IcxFvedvUUlZpXe_S2_iC7Sv0ucNTCoT9yKHzewtNLcfygLLGmhKR5CBrY7DDfMWmw7_CB5VRoZl_4seYBZo7IyqncvCxxE9Vzh2RCVQIpIJtRpmttiqB47Sg9DDYqw.fdTCEutIirMLfkE0wVC0XTma_SHFI_GYxzkl3gRGgzz3Kb0BZkewZgnBdl0MOAAjACalhZmkqDgdkusCX5wndTzAM7iaaxo4eyRpPMX_0j6vBINQ2hpig.qJ9BKY9vY8klje0monKKApswF9pU4wRXQL4dnVApv98y6k6BwL0S0QWKSHe9mu1RXLcnVUd9WDwsn8012MJdwnLXA3ZEIh8e9PqwB1iqeO0AU3pyW8qUh4bwllC03eoZ8qcevOf4OH5.bc4O_Y9g7FNcwvGYTk5rKHUIbO4lHOhPlcy6Mo2V0IjC8xAVbxvR10kX9sx0gvsJE7R7ev.TmLQyt_8cuGM01NmwkueJahOpxMSyELZLumeszONWfDLYQHXbNEU2pS1zyl3h7gs6Im.f57EzqGtMtn4tpVMJCrHSapU7h.XzL.q1g3nUef5AD9vObW_AE9UtczjqhrtX8adJze.FEIKQP_i1nXCnP5zci4NlTLj.DV67V.2pud4nb9QdDYJeHj33lDTI6X_Dx3VDvKS39vOLsn7trvsBUf7Gf2DE5EjDg3xgVVxm6MbLEeUHU7VjnLTecFK13tYzjRPDU9LzM_bF_QaxXHkqxAcMualnCT830be5aFY3cpWkccY__FPIIBtoiGe_LOeHRvRnoYTudwQ0g\",mdrd: \"5s_kQ25tiiUS0rHlbeHlA8REECHG7dOLyjcUgk2iYx4-1731659670-1.2.1.1-jNIinUQXwM_wxjA6gQY2LwWDCkThky6CqwATcchFfyHYlrKqnNvOBfOxUYbW5tZYP8J9I0_cwc0L1ClHayUxc0aDJJAK5osPQnJ.qh2XQSd03wXANo42xS3WWqwrd9xnQ66oRE_tKBAiz5j_wtMTWVWDS843xt_UIVmonYkcY_ysSkoRNUXAmU_FNtMZjD5P0iOQ64_a0bF1WYS_DcYu2cW2AQazneJZFcd1Z8lHjCXruIfnnfy659AsVTSLxPWMROMbxOGe12OUYkpMldTBr6Zar2CAiBvF19jGBiVq4s0CrpLdL_HNUU1Wahcz_jGXjiSJ9xEEFLQ1ITxxlCHX1zvcrMjlI1GwFsfKjSbWBBnsuRb9iv95_wk0fhKbmC8S25wE20WnliXSEL1Fw3JLNd6NPjmNcR30pSX85giHTg70RkAVnRh1Gf3sR_z5W7bI2JmHB0dLxtRUsMn4Y30Bt6pBoqiMRJNTScKnovXgog.QVHcb_WHPg1UPNRP5Afa_wYHRENwRTSG95qzs8L2n2DAC.9xIKDGzMVaRdcC2Z8.eFXQx4Hh9lds_9olvNI_Pm2pvhyFnXg80KMvC1L2l0Bv5chRAFrfJTTPQ4cG21ZVELE7s4ZKTvSF.0LMJvstqMmthM15S_UcDjgl70rgB4In.fLbsoUCSIGPci1VmOXLmWKuD8.Y.y9ezWDDyiQATaKhY4AimaeZBY5nRItpIMq.TK1RiFZCWuDZ4MjFrVM4BmPoTbbqiePYftPnJebYEuNM2bE0AUXq3DSIbg3Gj35ov70ZSAhgaaWNlXG7Ku.e6DquSBZfdZohRMEsAa6byz1ci38p.AU5d9CSxKXK4QrkxCzaMfPlLoA4fJ31UEGIZEpBBq8lC6O.l6Xn4vxDuKSi4.kwczt_TXpTvAB6RY42IiTmF6am5_vKphaF9V.GSWEiSuCLrTwA5ertWKR4ZhYiXb51HG6ZMUxsIkbkCkj0tv5uQ7YQVyc6qYEsaNgjbs5OY5_mgU464Pjn9RDT5LerkMBNpelHc3BwYGzvHBsjBMkXVcJ9tjqPZPykSFPtyREuBvVmCRtYKFtVUUtR2GwmlLQKyitYxacqOaEV5NKpH16xDAdllR.W.39iqLI5XJvAPW1lzQOmg9bNrq6G5pN0dfH2mv7gM3AqNdD6SUabdsz94sfWbjf0jSaZ764tepFO9f5tfAOkVYoWw0g_CBdjoSMvAse0njOAMaLG_oX7XKjxA3X0KP1HptHNjvTxTjNQMiLgKuXZi2tjEdJMhRCfHFhXEAJ1JqGLKuTSOGARFH4cn9qL7sv3Uovr77qe11P_VwhCnWLV8RWTjlmuSFAOCJ7R.VL5mZq_2_CZBR4g134qkjGAxQOtkLCtuik3ah_e6G5TEGLbW19Ma.nVNHw5HjXpckJxNxdmPuR_BiSISyZM.WQRlnLfWA0aqTEkFTosLbvvPrtlts01Aw.wVfImwCKNTstSr39rcEW94A2Bh5RR3sal7.unraPpYO_zgSCT3brzAUev3y_g6CpA1GqBMQzYMnYEH0m8VUNJWSFi7mqtV9JQT9jwgiaLyoxLOEUcreNJH4YpCbDjXlOxzmPh.dV_6Mtb2Yv073zjXHOLpaRri1okSqZllFQ52vT2b3KrDwpWPyN0b0hG0lGdEbd8Gb9utXDerHRPOznSIfc0_wKhEuO6SbVH_MfBm.Weh3c028Q1.3daZ7ZVT4C8jdEiO_0guus0cBHrBtj_UBwLQMPiH.iYGK77EXjphcDh0DnMWjuGc0gnogMgnqmLoJSsmfvC2WBOdsO11tvlmtMSnCS3kTRqkOUFHSqS22_EMQw5SYw3jrlRbbbJBDYefNuQv._Gm8cRjOUX1wi_6CsqMvv7kt1KyXL80cNDd.pkZ9xn1pRen7KfcM8NnlaJj7amMPXrQhI_JUHGtgDKFRU.gKzaqI1gPXyVZh96ENQvTNsXgv8Vvn29tWBzM3mgtHhdJ3fPMfUYse1tqUNmL_vY7bagbi2GMLbT1hhJYWoaB8vLtBBiuTx_m2accisZTPHACT7dzB8XLmeCpHJx1hXLwPVH3JlCvsa8m5vbGGeVWaTFcmxFO6uhBVLcRszuUZnGUQNyBMrOU3ZWeG.N3W4QlstZh6KRxrdhsfzc5XWMQ7wMHkivbnZGXKWYUP3yWXRzAbfvHVzAwYaaj_TT08FJDg8lKrtntN55DwQF4Mr4\"};var cpo = document.createElement('script');cpo.src = '/cdn-cgi/challenge-platform/h/g/orchestrate/chl_page/v1?ray=8e2de70a1b54d275';window._cf_chl_opt.cOgUHash = location.hash === '' && location.href.indexOf('#') !== -1 ? '#' : location.hash;window._cf_chl_opt.cOgUQuery = location.search === '' && location.href.slice(0, location.href.length - window._cf_chl_opt.cOgUHash.length).indexOf('?') !== -1 ? '?' : location.search;if (window.history && window.history.replaceState) {var ogU = location.pathname + window._cf_chl_opt.cOgUQuery + window._cf_chl_opt.cOgUHash;history.replaceState(null, null, \"\\/en\\/category\\/what-is-lithuania?__cf_chl_rt_tk=sicNnOYiVdhkvsJpd9j71MAQXr4PRIBfMoLmmEzgbRM-1731659670-1.0.1.1-K4VLkWX443B0l2gPSqxcbl5gKUtKh_j5q6ulyTcCfWA\" + window._cf_chl_opt.cOgUHash);cpo.onload = function() {history.replaceState(null, null, ogU);}}document.getElementsByTagName('head')[0].appendChild(cpo);}());\n",
      "  </script>\n",
      " </body>\n",
      "</html>\n",
      "\n"
     ]
    }
   ],
   "source": [
    "soup = BeautifulSoup(page.content, features=\"html.parser\")\n",
    "print(soup.prettify())"
   ]
  },
  {
   "cell_type": "code",
   "execution_count": 19,
   "metadata": {},
   "outputs": [
    {
     "name": "stdout",
     "output_type": "stream",
     "text": [
      "<div class=\"main-wrapper\" role=\"main\"><div class=\"main-content\"><noscript><div class=\"h2\"><span id=\"challenge-error-text\">Enable JavaScript and cookies to continue</span></div></noscript></div></div>\n",
      "\n"
     ]
    }
   ],
   "source": [
    "infos = soup.find_all(\"div\", class_=\"main-wrapper\")\n",
    "\n",
    "for info in infos:\n",
    "  print(info, end=\"\\n\" * 2)"
   ]
  }
 ],
 "metadata": {
  "kernelspec": {
   "display_name": "Python 3",
   "language": "python",
   "name": "python3"
  },
  "language_info": {
   "codemirror_mode": {
    "name": "ipython",
    "version": 3
   },
   "file_extension": ".py",
   "mimetype": "text/x-python",
   "name": "python",
   "nbconvert_exporter": "python",
   "pygments_lexer": "ipython3",
   "version": "3.10.6"
  }
 },
 "nbformat": 4,
 "nbformat_minor": 2
}
